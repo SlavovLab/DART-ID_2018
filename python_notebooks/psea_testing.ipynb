{
 "cells": [
  {
   "cell_type": "code",
   "execution_count": 2,
   "metadata": {},
   "outputs": [],
   "source": [
    "import pandas as pd\n",
    "import numpy as np\n",
    "\n",
    "df = pd.read_csv('/gd/bayesian_RT/Alignments/FP18_20180807_2/ev_updated.txt', sep='\\t', low_memory=False)"
   ]
  },
  {
   "cell_type": "code",
   "execution_count": 10,
   "metadata": {},
   "outputs": [
    {
     "name": "stderr",
     "output_type": "stream",
     "text": [
      "/Users/albert/anaconda3/lib/python3.6/site-packages/ipykernel_launcher.py:2: FutureWarning: currently extract(expand=None) means expand=False (return Index/Series/DataFrame) but in a future version of pandas this will be changed to expand=True (return DataFrame)\n",
      "  \n"
     ]
    },
    {
     "data": {
      "text/plain": [
       "0        P36578\n",
       "1        P36578\n",
       "2        P36578\n",
       "3        P36578\n",
       "4        P36578\n",
       "5        P36578\n",
       "6        P36578\n",
       "7        A6NHY2\n",
       "8        A6NHY2\n",
       "9        A6NHY2\n",
       "10       A6NHY2\n",
       "11       A6NHY2\n",
       "12       Q9NX20\n",
       "13       Q9NX63\n",
       "14       Q9NX63\n",
       "15       Q6ZUS5\n",
       "16       P19338\n",
       "17       P19338\n",
       "18       P19338\n",
       "19       P19338\n",
       "20       P19338\n",
       "21       P19338\n",
       "22       P19338\n",
       "23       P19338\n",
       "24       P19338\n",
       "25       P19338\n",
       "26       P19338\n",
       "27       P19338\n",
       "28       P19338\n",
       "29       P19338\n",
       "          ...  \n",
       "30328    P32297\n",
       "30329    Q8TDS5\n",
       "30330    Q6IMN6\n",
       "30331    O60524\n",
       "30332    P08582\n",
       "30333    P08582\n",
       "30334    P08582\n",
       "30335    P14866\n",
       "30336    P14866\n",
       "30337    P14866\n",
       "30338    P14866\n",
       "30339    P14866\n",
       "30340    P14866\n",
       "30341    P14866\n",
       "30342    P14866\n",
       "30343    Q6PJP8\n",
       "30344    P12004\n",
       "30345    P12004\n",
       "30346    P12004\n",
       "30347    P12004\n",
       "30348    P12004\n",
       "30349    P12004\n",
       "30350    P12004\n",
       "30351    P12004\n",
       "30352    P12004\n",
       "30353    Q02878\n",
       "30354    Q8NFJ5\n",
       "30355    Q8NFJ5\n",
       "30356    Q5VTE0\n",
       "30357    Q5VTE0\n",
       "Name: Leading razor protein, Length: 30358, dtype: object"
      ]
     },
     "execution_count": 10,
     "metadata": {},
     "output_type": "execute_result"
    }
   ],
   "source": [
    "Proteins = df['Leading razor protein'].str.split(\"|\").apply((lambda x: x[1] if len(x) == 3 else x[0]))\n",
    "Proteins.str.extract('([A-Z0-9_]+)')"
   ]
  }
 ],
 "metadata": {
  "kernelspec": {
   "display_name": "Python 3",
   "language": "python",
   "name": "python3"
  },
  "language_info": {
   "codemirror_mode": {
    "name": "ipython",
    "version": 3
   },
   "file_extension": ".py",
   "mimetype": "text/x-python",
   "name": "python",
   "nbconvert_exporter": "python",
   "pygments_lexer": "ipython3",
   "version": "3.6.4"
  }
 },
 "nbformat": 4,
 "nbformat_minor": 2
}
